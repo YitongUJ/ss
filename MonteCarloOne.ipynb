{
 "cells": [
  {
   "cell_type": "markdown",
   "id": "5da948b5",
   "metadata": {},
   "source": [
    "# Monte Carlo Simulation"
   ]
  },
  {
   "cell_type": "markdown",
   "id": "8702f4dd",
   "metadata": {
    "raw_mimetype": "text/markdown"
   },
   "source": [
    "The Monte Carlo Simulation from pages 127 - 132 of the Hubbard Textbook.\n",
    "\n",
    "The problem we are trying to solve is the following:\n",
    "You are considering leasing a new machine for your factory. The one-year lease costs is $400,000 with no early cancellation. Your calibrated estimators gave the following ranges of savings in maintenance, labor and raw materials. They also estimated the annual production levels for this process.\n",
    "\n",
    "- Maintenance savings (MS): R10 to $R20 per unit\n",
    "- Labour savings (LS): -R2 to R8\n",
    "- Raw material savings (RMS): R3 to R9 per unit\n",
    "- Production level (PL): 15,000 to 35,000 units per year\n",
    "- Annual lease (breakeven): R400,000"
   ]
  },
  {
   "cell_type": "code",
   "execution_count": 1,
   "id": "3c4dc5a5",
   "metadata": {},
   "outputs": [],
   "source": [
    "# import the required libraries\n",
    "import random\n",
    "import matplotlib.pyplot as plt \n"
   ]
  },
  {
   "cell_type": "code",
   "execution_count": 2,
   "id": "84ac2bb5",
   "metadata": {},
   "outputs": [],
   "source": [
    "MSl = 10.0 # Maintenance savings lower Bound\n",
    "MSh = 20.0 # Maintenance savings Higher Bound\n",
    "LSl = -2.0 # Labor savings Lower Bound\n",
    "LSh = 8.0 # Labor savings Higher Bound\n",
    "RMSl= 3.0 # Raw material savings Lower Bound\n",
    "RMSh = 9.0 # Raw material savings Higher Bound\n",
    "PLl = 15_000.0 # Production level Lower Bound\n",
    "PLh = 35_000.0 # Production level Higher Bound\n",
    "AnnualLease = 400000 # Breakeven amount\n",
    "Success = 0\n",
    "numIterations = 100_000\n"
   ]
  },
  {
   "cell_type": "code",
   "execution_count": 3,
   "id": "10f13881",
   "metadata": {},
   "outputs": [],
   "source": [
    "MSmu = (MSl+MSh)/2\n",
    "MSsigma = (MSh - MSl)/3.29\n",
    "\n",
    "LSmu = (LSl+LSh)/2\n",
    "LSsigma = (LSh - LSl)/3.29\n",
    "\n",
    "RMSmu = (RMSl+RMSh)/2\n",
    "RMSsigma = (RMSh - RMSl)/3.29\n",
    "\n",
    "PLmu = (PLl+PLh)/2\n",
    "PLsigma = (PLh - PLl)/3.29\n",
    "\n"
   ]
  },
  {
   "cell_type": "code",
   "execution_count": 4,
   "id": "7ba53842",
   "metadata": {},
   "outputs": [],
   "source": [
    "nums = []\n",
    "\n",
    "for i in range(numIterations):\n",
    "    MS = random.normalvariate(MSmu, MSsigma)\n",
    "    LS = random.normalvariate(LSmu, LSsigma)\n",
    "    RMS = random.normalvariate(RMSmu, RMSsigma)\n",
    "    PL = random.normalvariate(PLmu, PLsigma)\n",
    "    AnnualSavings = (MS + LS + RMS) * PL\n",
    "    if AnnualSavings > AnnualLease:\n",
    "        Success = Success + 1\n",
    "    nums.append(AnnualSavings)\n",
    "     "
   ]
  },
  {
   "cell_type": "code",
   "execution_count": 5,
   "id": "750f3ce1",
   "metadata": {},
   "outputs": [
    {
     "name": "stdout",
     "output_type": "stream",
     "text": [
      "Success Rate:  0.85827\n"
     ]
    }
   ],
   "source": [
    "print(\"Success Rate: \", Success/numIterations)"
   ]
  },
  {
   "cell_type": "code",
   "execution_count": 6,
   "id": "4ddbc781",
   "metadata": {},
   "outputs": [
    {
     "data": {
      "image/png": "[encoded data removed]",
      "text/plain": [
       "<Figure size 432x288 with 1 Axes>"
      ]
     },
     "metadata": {
      "needs_background": "light"
     },
     "output_type": "display_data"
    }
   ],
   "source": [
    "plt.plot(nums) \n",
    "plt.show()\n",
    "\n",
    "      "
   ]
  },
  {
   "cell_type": "code",
   "execution_count": 7,
   "id": "01e0c8cb",
   "metadata": {},
   "outputs": [
    {
     "data": {
      "image/png": "[encoded data removed]",
      "text/plain": [
       "<Figure size 432x288 with 1 Axes>"
      ]
     },
     "metadata": {
      "needs_background": "light"
     },
     "output_type": "display_data"
    }
   ],
   "source": [
    "plt.hist(nums, bins = 100) \n",
    "plt.show()"
   ]
  },
  {
   "cell_type": "code",
   "execution_count": null,
   "id": "83a38577",
   "metadata": {},
   "outputs": [],
   "source": []
  }
 ],
 "metadata": {
  "celltoolbar": "Raw Cell Format",
  "kernelspec": {
   "display_name": "Python 3 (ipykernel)",
   "language": "python",
   "name": "python3"
  },
  "language_info": {
   "codemirror_mode": {
    "name": "ipython",
    "version": 3
   },
   "file_extension": ".py",
   "mimetype": "text/x-python",
   "name": "python",
   "nbconvert_exporter": "python",
   "pygments_lexer": "ipython3",
   "version": "3.9.12"
  }
 },
 "nbformat": 4,
 "nbformat_minor": 5
}
